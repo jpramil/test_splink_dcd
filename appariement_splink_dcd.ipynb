{
 "cells": [
  {
   "cell_type": "markdown",
   "id": "148f0d48-e309-4eea-9697-f8eb59241232",
   "metadata": {},
   "source": [
    "# Appariement SPlink sur données de décès"
   ]
  },
  {
   "cell_type": "markdown",
   "id": "e9fdc593-0560-42f5-87ae-e78ccb8a5fa8",
   "metadata": {},
   "source": [
    "## Environnement "
   ]
  },
  {
   "cell_type": "code",
   "execution_count": 1,
   "id": "12dfd152-6b18-4844-a708-a5b19d886579",
   "metadata": {},
   "outputs": [
    {
     "name": "stdout",
     "output_type": "stream",
     "text": [
      "Collecting splink\n",
      "  Downloading splink-3.9.8-py3-none-any.whl.metadata (12 kB)\n",
      "Requirement already satisfied: Jinja2>=3.0.3 in /opt/mamba/lib/python3.11/site-packages (from splink) (3.1.2)\n",
      "Collecting altair<6.0.0,>=5.0.1 (from splink)\n",
      "  Downloading altair-5.1.2-py3-none-any.whl.metadata (8.6 kB)\n",
      "Collecting duckdb>=0.8.0 (from splink)\n",
      "  Downloading duckdb-0.9.1-cp311-cp311-manylinux_2_17_x86_64.manylinux2014_x86_64.whl.metadata (760 bytes)\n",
      "Requirement already satisfied: jsonschema<5.0,>=3.2 in /opt/mamba/lib/python3.11/site-packages (from splink) (4.19.1)\n",
      "Requirement already satisfied: pandas>1.3.0 in /opt/mamba/lib/python3.11/site-packages (from splink) (2.1.1)\n",
      "Collecting phonetics<2.0.0,>=1.0.5 (from splink)\n",
      "  Downloading phonetics-1.0.5.tar.gz (8.8 kB)\n",
      "  Preparing metadata (setup.py) ... \u001b[?25ldone\n",
      "\u001b[?25hCollecting sqlglot<11.4.2,>=7.0.0 (from splink)\n",
      "  Downloading sqlglot-11.4.1-py3-none-any.whl (240 kB)\n",
      "\u001b[2K     \u001b[90m━━━━━━━━━━━━━━━━━━━━━━━━━━━━━━━━━━━━━━━\u001b[0m \u001b[32m240.3/240.3 kB\u001b[0m \u001b[31m2.0 MB/s\u001b[0m eta \u001b[36m0:00:00\u001b[0m00:01\u001b[0m00:01\u001b[0m\n",
      "\u001b[?25hRequirement already satisfied: numpy in /opt/mamba/lib/python3.11/site-packages (from altair<6.0.0,>=5.0.1->splink) (1.24.4)\n",
      "Requirement already satisfied: packaging in /opt/mamba/lib/python3.11/site-packages (from altair<6.0.0,>=5.0.1->splink) (23.1)\n",
      "Requirement already satisfied: toolz in /opt/mamba/lib/python3.11/site-packages (from altair<6.0.0,>=5.0.1->splink) (0.12.0)\n",
      "Requirement already satisfied: MarkupSafe>=2.0 in /opt/mamba/lib/python3.11/site-packages (from Jinja2>=3.0.3->splink) (2.1.3)\n",
      "Requirement already satisfied: attrs>=22.2.0 in /opt/mamba/lib/python3.11/site-packages (from jsonschema<5.0,>=3.2->splink) (23.1.0)\n",
      "Requirement already satisfied: jsonschema-specifications>=2023.03.6 in /opt/mamba/lib/python3.11/site-packages (from jsonschema<5.0,>=3.2->splink) (2023.7.1)\n",
      "Requirement already satisfied: referencing>=0.28.4 in /opt/mamba/lib/python3.11/site-packages (from jsonschema<5.0,>=3.2->splink) (0.30.2)\n",
      "Requirement already satisfied: rpds-py>=0.7.1 in /opt/mamba/lib/python3.11/site-packages (from jsonschema<5.0,>=3.2->splink) (0.10.6)\n",
      "Requirement already satisfied: python-dateutil>=2.8.2 in /opt/mamba/lib/python3.11/site-packages (from pandas>1.3.0->splink) (2.8.2)\n",
      "Requirement already satisfied: pytz>=2020.1 in /opt/mamba/lib/python3.11/site-packages (from pandas>1.3.0->splink) (2023.3.post1)\n",
      "Requirement already satisfied: tzdata>=2022.1 in /opt/mamba/lib/python3.11/site-packages (from pandas>1.3.0->splink) (2023.3)\n",
      "Requirement already satisfied: six>=1.5 in /opt/mamba/lib/python3.11/site-packages (from python-dateutil>=2.8.2->pandas>1.3.0->splink) (1.16.0)\n",
      "Downloading splink-3.9.8-py3-none-any.whl (3.6 MB)\n",
      "\u001b[2K   \u001b[90m━━━━━━━━━━━━━━━━━━━━━━━━━━━━━━━━━━━━━━━━\u001b[0m \u001b[32m3.6/3.6 MB\u001b[0m \u001b[31m7.7 MB/s\u001b[0m eta \u001b[36m0:00:00\u001b[0ma \u001b[36m0:00:01\u001b[0mm\n",
      "\u001b[?25hDownloading altair-5.1.2-py3-none-any.whl (516 kB)\n",
      "\u001b[2K   \u001b[90m━━━━━━━━━━━━━━━━━━━━━━━━━━━━━━━━━━━━━━━━\u001b[0m \u001b[32m516.2/516.2 kB\u001b[0m \u001b[31m6.8 MB/s\u001b[0m eta \u001b[36m0:00:00\u001b[0m00:01\u001b[0m00:01\u001b[0m\n",
      "\u001b[?25hDownloading duckdb-0.9.1-cp311-cp311-manylinux_2_17_x86_64.manylinux2014_x86_64.whl (16.5 MB)\n",
      "\u001b[2K   \u001b[90m━━━━━━━━━━━━━━━━━━━━━━━━━━━━━━━━━━━━━━━━\u001b[0m \u001b[32m16.5/16.5 MB\u001b[0m \u001b[31m7.0 MB/s\u001b[0m eta \u001b[36m0:00:00\u001b[0m00:01\u001b[0m00:01\u001b[0m\n",
      "\u001b[?25hBuilding wheels for collected packages: phonetics\n",
      "  Building wheel for phonetics (setup.py) ... \u001b[?25ldone\n",
      "\u001b[?25h  Created wheel for phonetics: filename=phonetics-1.0.5-py2.py3-none-any.whl size=8695 sha256=e14086151f161979349ac0dc1f606cab1ea1aadc07981be03f1b40d2e7ba81bd\n",
      "  Stored in directory: /home/onyxia/.cache/pip/wheels/40/63/73/d2c3bed2dc6df7c34ec9e1402761bed3519a4c0d152858b190\n",
      "Successfully built phonetics\n",
      "Installing collected packages: sqlglot, phonetics, duckdb, altair, splink\n",
      "Successfully installed altair-5.1.2 duckdb-0.9.1 phonetics-1.0.5 splink-3.9.8 sqlglot-11.4.1\n",
      "Collecting recordlinkage\n",
      "  Downloading recordlinkage-0.16-py3-none-any.whl.metadata (8.1 kB)\n",
      "Collecting jellyfish>=1 (from recordlinkage)\n",
      "  Downloading jellyfish-1.0.1-cp311-cp311-manylinux_2_17_x86_64.manylinux2014_x86_64.whl.metadata (2.5 kB)\n",
      "Requirement already satisfied: numpy>=1.13 in /opt/mamba/lib/python3.11/site-packages (from recordlinkage) (1.24.4)\n",
      "Requirement already satisfied: pandas<3,>=1 in /opt/mamba/lib/python3.11/site-packages (from recordlinkage) (2.1.1)\n",
      "Requirement already satisfied: scipy>=1 in /opt/mamba/lib/python3.11/site-packages (from recordlinkage) (1.11.3)\n",
      "Requirement already satisfied: scikit-learn>=1 in /opt/mamba/lib/python3.11/site-packages (from recordlinkage) (1.3.1)\n",
      "Requirement already satisfied: joblib in /opt/mamba/lib/python3.11/site-packages (from recordlinkage) (1.3.2)\n",
      "Requirement already satisfied: python-dateutil>=2.8.2 in /opt/mamba/lib/python3.11/site-packages (from pandas<3,>=1->recordlinkage) (2.8.2)\n",
      "Requirement already satisfied: pytz>=2020.1 in /opt/mamba/lib/python3.11/site-packages (from pandas<3,>=1->recordlinkage) (2023.3.post1)\n",
      "Requirement already satisfied: tzdata>=2022.1 in /opt/mamba/lib/python3.11/site-packages (from pandas<3,>=1->recordlinkage) (2023.3)\n",
      "Requirement already satisfied: threadpoolctl>=2.0.0 in /opt/mamba/lib/python3.11/site-packages (from scikit-learn>=1->recordlinkage) (3.2.0)\n",
      "Requirement already satisfied: six>=1.5 in /opt/mamba/lib/python3.11/site-packages (from python-dateutil>=2.8.2->pandas<3,>=1->recordlinkage) (1.16.0)\n",
      "Downloading recordlinkage-0.16-py3-none-any.whl (926 kB)\n",
      "\u001b[2K   \u001b[90m━━━━━━━━━━━━━━━━━━━━━━━━━━━━━━━━━━━━━━━━\u001b[0m \u001b[32m926.9/926.9 kB\u001b[0m \u001b[31m16.4 MB/s\u001b[0m eta \u001b[36m0:00:00\u001b[0ma \u001b[36m0:00:01\u001b[0m\n",
      "\u001b[?25hDownloading jellyfish-1.0.1-cp311-cp311-manylinux_2_17_x86_64.manylinux2014_x86_64.whl (1.2 MB)\n",
      "\u001b[2K   \u001b[90m━━━━━━━━━━━━━━━━━━━━━━━━━━━━━━━━━━━━━━━━\u001b[0m \u001b[32m1.2/1.2 MB\u001b[0m \u001b[31m29.9 MB/s\u001b[0m eta \u001b[36m0:00:00\u001b[0ma \u001b[36m0:00:01\u001b[0m\n",
      "\u001b[?25hInstalling collected packages: jellyfish, recordlinkage\n",
      "Successfully installed jellyfish-1.0.1 recordlinkage-0.16\n"
     ]
    }
   ],
   "source": [
    "### Installation des packages splink et recordlinkage\n",
    "!pip install splink\n",
    "!pip install recordlinkage"
   ]
  },
  {
   "cell_type": "code",
   "execution_count": 2,
   "id": "ca732b19-f3a4-4058-9b6e-c6d3e234ae0d",
   "metadata": {},
   "outputs": [],
   "source": [
    "### Import des librairies nécessaires\n",
    "import pandas as pd\n",
    "from splink.duckdb.linker import DuckDBLinker\n",
    "import splink.duckdb.comparison_library as cl\n",
    "import splink.duckdb.comparison_template_library as ctl\n",
    "from splink.duckdb.blocking_rule_library import block_on\n",
    "\n",
    "# Pour S3\n",
    "import os\n",
    "import s3fs"
   ]
  },
  {
   "cell_type": "markdown",
   "id": "2f810bd5-93ce-4d11-9cf0-7fed8f54b1c3",
   "metadata": {},
   "source": [
    "## Chargement des données"
   ]
  },
  {
   "cell_type": "markdown",
   "id": "7e25882f-05d2-40df-a4ad-98bc5a778e19",
   "metadata": {},
   "source": [
    "Deux tables avec les mêmes individus (même nombre de lignes et mêmes indentifiants). La table **deces_perturb** a été dégradée (ajout volontaire d'imprécisions dans les différentes colonnes identifiantes)."
   ]
  },
  {
   "cell_type": "code",
   "execution_count": 3,
   "id": "73d85bb4-de5c-496c-bee0-f5f9f62ef781",
   "metadata": {},
   "outputs": [],
   "source": [
    "S3_ENDPOINT_URL = \"https://\" + os.environ[\"AWS_S3_ENDPOINT\"]\n",
    "fs = s3fs.S3FileSystem(client_kwargs={'endpoint_url': S3_ENDPOINT_URL})\n",
    "BUCKET = \"projet-ssplab\"\n",
    "\n",
    "# Import de la table des décès\n",
    "FILE_KEY_S3 = \"appariements/deces.parquet\"\n",
    "FILE_PATH_S3 = BUCKET + \"/\" + FILE_KEY_S3\n",
    "\n",
    "with fs.open(FILE_PATH_S3, mode=\"rb\") as file_in:\n",
    "    deces = pd.read_parquet(file_in)\n",
    "\n",
    "# Import de la table des décès perturbée\n",
    "FILE_KEY_S3 = \"appariements/deces_perturb.parquet\"\n",
    "FILE_PATH_S3 = BUCKET + \"/\" + FILE_KEY_S3\n",
    "\n",
    "with fs.open(FILE_PATH_S3, mode=\"rb\") as file_in:\n",
    "    deces_perturb = pd.read_parquet(file_in)"
   ]
  },
  {
   "cell_type": "markdown",
   "id": "86200d39-179d-4221-ac95-ede77ea0c220",
   "metadata": {},
   "source": [
    "Besoin de passer les colonnes de noms/prénoms en minuscules dans la table de gauche."
   ]
  },
  {
   "cell_type": "code",
   "execution_count": 4,
   "id": "df874084-bbf8-474e-a9b3-d4470de03151",
   "metadata": {},
   "outputs": [],
   "source": [
    "deces['nom_etat_civil'] = deces['nom_etat_civil'].str.lower()\n",
    "deces['prenoms_etat_civil'] = deces['prenoms_etat_civil'].str.lower()"
   ]
  },
  {
   "cell_type": "markdown",
   "id": "8d794d54-1ef8-4b7c-bd87-70fdabafe29d",
   "metadata": {},
   "source": [
    "## Appariement "
   ]
  },
  {
   "cell_type": "markdown",
   "id": "e757c787-2fe1-4792-8da8-6a990220b8e4",
   "metadata": {},
   "source": [
    "Nombre de lignes à sélectionner dans les deux bases (sur les 26 millions)"
   ]
  },
  {
   "cell_type": "code",
   "execution_count": 5,
   "id": "8005fa47-5c58-4e12-965a-9ad6e04b7a7b",
   "metadata": {},
   "outputs": [],
   "source": [
    "nb_lignes = 900000"
   ]
  },
  {
   "cell_type": "markdown",
   "id": "909919d0-472a-49b7-a9a0-d9873d058a48",
   "metadata": {},
   "source": [
    "Les individus ont les mêmes identifiants ligne à ligne (la base perturbée contient les mêmes individus, triés dans le même ordre)"
   ]
  },
  {
   "cell_type": "code",
   "execution_count": 6,
   "id": "1ec426e1-4484-4d9c-b91e-cb5c8a88ca52",
   "metadata": {},
   "outputs": [],
   "source": [
    "df_gauche = deces.iloc[:nb_lignes]\n",
    "df_droite = deces_perturb.iloc[:nb_lignes]"
   ]
  },
  {
   "cell_type": "code",
   "execution_count": 7,
   "id": "5a8b49da-237e-48c2-917f-3bd30d52b6b7",
   "metadata": {},
   "outputs": [
    {
     "data": {
      "text/plain": [
       "True"
      ]
     },
     "execution_count": 7,
     "metadata": {},
     "output_type": "execute_result"
    }
   ],
   "source": [
    "df_gauche['ident_deces'].equals(df_droite['ident_deces'])"
   ]
  },
  {
   "cell_type": "markdown",
   "id": "237466f2-a463-4eb9-aa4a-2a505d97cb37",
   "metadata": {},
   "source": [
    "Part de lignes ayant subi une \"perturbation\" lors de la création de la table de gauche"
   ]
  },
  {
   "cell_type": "code",
   "execution_count": 8,
   "id": "2a7536e6-a02c-4a7e-839e-f6cbd5fc79c7",
   "metadata": {},
   "outputs": [
    {
     "data": {
      "text/html": [
       "<div>\n",
       "<style scoped>\n",
       "    .dataframe tbody tr th:only-of-type {\n",
       "        vertical-align: middle;\n",
       "    }\n",
       "\n",
       "    .dataframe tbody tr th {\n",
       "        vertical-align: top;\n",
       "    }\n",
       "\n",
       "    .dataframe thead th {\n",
       "        text-align: right;\n",
       "    }\n",
       "</style>\n",
       "<table border=\"1\" class=\"dataframe\">\n",
       "  <thead>\n",
       "    <tr style=\"text-align: right;\">\n",
       "      <th></th>\n",
       "      <th>perturbation</th>\n",
       "    </tr>\n",
       "  </thead>\n",
       "  <tbody>\n",
       "    <tr>\n",
       "      <th>part</th>\n",
       "      <td>0.182558</td>\n",
       "    </tr>\n",
       "  </tbody>\n",
       "</table>\n",
       "</div>"
      ],
      "text/plain": [
       "      perturbation\n",
       "part      0.182558"
      ]
     },
     "execution_count": 8,
     "metadata": {},
     "output_type": "execute_result"
    }
   ],
   "source": [
    "df_droite.agg(part=('perturbation', 'sum')) / len(df_droite)"
   ]
  },
  {
   "cell_type": "code",
   "execution_count": 9,
   "id": "1de5c7f8-3beb-4b68-a244-69a6e73bb36c",
   "metadata": {},
   "outputs": [],
   "source": [
    "df_gauche = df_gauche.drop(['datenaiss', 'datedeces', 'lieudeces', 'adeces'], axis=1)"
   ]
  },
  {
   "cell_type": "markdown",
   "id": "13deb0a5-1f6d-4dd3-888e-39e216c6aa34",
   "metadata": {},
   "source": [
    "Initialisation de l'objet Linker"
   ]
  },
  {
   "cell_type": "code",
   "execution_count": 10,
   "id": "87b91177-5551-4cb1-8d0d-093c87613e2a",
   "metadata": {},
   "outputs": [],
   "source": [
    "linker = DuckDBLinker([df_gauche, df_droite], {\"link_type\": \"link_only\", \"unique_id_column_name\": \"ident_deces\"})"
   ]
  },
  {
   "cell_type": "markdown",
   "id": "01f22cbd-d085-461c-8094-4d9be9442811",
   "metadata": {},
   "source": [
    "Règle de blocage"
   ]
  },
  {
   "cell_type": "code",
   "execution_count": 25,
   "id": "627f70d0-562f-48cf-8f54-b4268d47c5cb",
   "metadata": {},
   "outputs": [],
   "source": [
    "blocking_rules = [\n",
    "        \"l.lieunaiss = r.lieunaiss and (substr(l.nom_etat_civil, 1, 3) = substr(r.nom_etat_civil, 1, 3) or substr(l.nom_etat_civil, length(l.nom_etat_civil) -2 , 3) = substr(r.nom_etat_civil, length(r.nom_etat_civil) - 2, 3))\"\n",
    "    ]\n"
   ]
  },
  {
   "cell_type": "code",
   "execution_count": 22,
   "id": "89fca7db-2bb1-4d08-bb3c-8486b65ffee3",
   "metadata": {
    "scrolled": true
   },
   "outputs": [
    {
     "data": {
      "application/vnd.jupyter.widget-view+json": {
       "model_id": "3f4349e7a2a049cf92cee9ac19a8bd0d",
       "version_major": 2,
       "version_minor": 0
      },
      "text/plain": [
       "FloatProgress(value=0.0, layout=Layout(width='auto'), style=ProgressStyle(bar_color='black'))"
      ]
     },
     "metadata": {},
     "output_type": "display_data"
    },
    {
     "data": {
      "text/html": [
       "\n",
       "<style>\n",
       "  #altair-viz-c79439a486294c38ac94be96d1611671.vega-embed {\n",
       "    width: 100%;\n",
       "    display: flex;\n",
       "  }\n",
       "\n",
       "  #altair-viz-c79439a486294c38ac94be96d1611671.vega-embed details,\n",
       "  #altair-viz-c79439a486294c38ac94be96d1611671.vega-embed details summary {\n",
       "    position: relative;\n",
       "  }\n",
       "</style>\n",
       "<div id=\"altair-viz-c79439a486294c38ac94be96d1611671\"></div>\n",
       "<script type=\"text/javascript\">\n",
       "  var VEGA_DEBUG = (typeof VEGA_DEBUG == \"undefined\") ? {} : VEGA_DEBUG;\n",
       "  (function(spec, embedOpt){\n",
       "    let outputDiv = document.currentScript.previousElementSibling;\n",
       "    if (outputDiv.id !== \"altair-viz-c79439a486294c38ac94be96d1611671\") {\n",
       "      outputDiv = document.getElementById(\"altair-viz-c79439a486294c38ac94be96d1611671\");\n",
       "    }\n",
       "    const paths = {\n",
       "      \"vega\": \"https://cdn.jsdelivr.net/npm/vega@5?noext\",\n",
       "      \"vega-lib\": \"https://cdn.jsdelivr.net/npm/vega-lib?noext\",\n",
       "      \"vega-lite\": \"https://cdn.jsdelivr.net/npm/vega-lite@5.15.1?noext\",\n",
       "      \"vega-embed\": \"https://cdn.jsdelivr.net/npm/vega-embed@6?noext\",\n",
       "    };\n",
       "\n",
       "    function maybeLoadScript(lib, version) {\n",
       "      var key = `${lib.replace(\"-\", \"\")}_version`;\n",
       "      return (VEGA_DEBUG[key] == version) ?\n",
       "        Promise.resolve(paths[lib]) :\n",
       "        new Promise(function(resolve, reject) {\n",
       "          var s = document.createElement('script');\n",
       "          document.getElementsByTagName(\"head\")[0].appendChild(s);\n",
       "          s.async = true;\n",
       "          s.onload = () => {\n",
       "            VEGA_DEBUG[key] = version;\n",
       "            return resolve(paths[lib]);\n",
       "          };\n",
       "          s.onerror = () => reject(`Error loading script: ${paths[lib]}`);\n",
       "          s.src = paths[lib];\n",
       "        });\n",
       "    }\n",
       "\n",
       "    function showError(err) {\n",
       "      outputDiv.innerHTML = `<div class=\"error\" style=\"color:red;\">${err}</div>`;\n",
       "      throw err;\n",
       "    }\n",
       "\n",
       "    function displayChart(vegaEmbed) {\n",
       "      vegaEmbed(outputDiv, spec, embedOpt)\n",
       "        .catch(err => showError(`Javascript Error: ${err.message}<br>This usually means there's a typo in your chart specification. See the javascript console for the full traceback.`));\n",
       "    }\n",
       "\n",
       "    if(typeof define === \"function\" && define.amd) {\n",
       "      requirejs.config({paths});\n",
       "      require([\"vega-embed\"], displayChart, err => showError(`Error loading script: ${err.message}`));\n",
       "    } else {\n",
       "      maybeLoadScript(\"vega\", \"5\")\n",
       "        .then(() => maybeLoadScript(\"vega-lite\", \"5.15.1\"))\n",
       "        .then(() => maybeLoadScript(\"vega-embed\", \"6\"))\n",
       "        .catch(showError)\n",
       "        .then(() => displayChart(vegaEmbed));\n",
       "    }\n",
       "  })({\"config\": {\"view\": {\"continuousWidth\": 300, \"continuousHeight\": 300}}, \"data\": {\"name\": \"data-3c57bf16b9c75c6b428d4fd1ce44b393\"}, \"mark\": \"bar\", \"encoding\": {\"color\": {\"field\": \"rule\", \"legend\": null, \"scale\": {\"scheme\": \"category20c\"}}, \"order\": {\"field\": \"cumulative_rows\"}, \"tooltip\": [{\"field\": \"rule\", \"title\": \"SQL Condition\", \"type\": \"nominal\"}, {\"field\": \"row_count\", \"format\": \",\", \"title\": \"Comparisons Generated\", \"type\": \"quantitative\"}, {\"field\": \"cumulative_rows\", \"format\": \",\", \"title\": \"Cumulative Comparisons\", \"type\": \"quantitative\"}, {\"field\": \"cartesian\", \"format\": \",\", \"title\": \"Cartesian Product of Input Data\", \"type\": \"quantitative\"}, {\"field\": \"reduction_ratio\", \"title\": \"Reduction Ratio (cumulative rows/cartesian product)\", \"type\": \"nominal\"}], \"x\": {\"field\": \"start\", \"title\": \"Comparisons Generated by Rule(s)\", \"type\": \"quantitative\"}, \"x2\": {\"field\": \"cumulative_rows\"}, \"y\": {\"field\": \"rule\", \"sort\": [\"-x2\"], \"title\": \"SQL Blocking Rule\"}}, \"height\": {\"step\": 20}, \"title\": {\"text\": \"Count of Additional Comparisons Generated by Each Blocking Rule\", \"subtitle\": \"(Counts exclude comparisons already generated by previous rules)\"}, \"width\": 450, \"$schema\": \"https://vega.github.io/schema/vega-lite/v5.9.3.json\", \"datasets\": {\"data-3c57bf16b9c75c6b428d4fd1ce44b393\": [{\"row_count\": 18428262, \"rule\": \"l.lieunaiss = r.lieunaiss and (substr(l.nom_etat_civil, 1, 3) = substr(r.nom_etat_civil, 1, 3) or substr(l.nom_etat_civil, length(l.nom_etat_civil) -2 , 3) = substr(r.nom_etat_civil, length(r.nom_etat_civil) - 2, 3))\", \"cumulative_rows\": 18428262, \"cartesian\": 810000000000, \"reduction_ratio\": \"The rolling reduction ratio with your given blocking rule(s) is 0.999977. This represents the reduction in the total number of comparisons due to your rule(s).\", \"start\": 0}]}}, {\"mode\": \"vega-lite\"});\n",
       "</script>"
      ],
      "text/plain": [
       "alt.Chart(...)"
      ]
     },
     "execution_count": 22,
     "metadata": {},
     "output_type": "execute_result"
    }
   ],
   "source": [
    "#count = linker.cumulative_num_comparisons_from_blocking_rules_chart(blocking_rules)\n",
    "#count"
   ]
  },
  {
   "cell_type": "code",
   "execution_count": 26,
   "id": "551823f2-779d-4c3c-842e-2282e98677f4",
   "metadata": {},
   "outputs": [
    {
     "data": {
      "application/vnd.jupyter.widget-view+json": {
       "model_id": "dcec5d3f4dbe421a9610d9244b0bc221",
       "version_major": 2,
       "version_minor": 0
      },
      "text/plain": [
       "FloatProgress(value=0.0, layout=Layout(width='auto'), style=ProgressStyle(bar_color='black'))"
      ]
     },
     "metadata": {},
     "output_type": "display_data"
    },
    {
     "name": "stdout",
     "output_type": "stream",
     "text": [
      "Nombre de paires conservées 18428262\n"
     ]
    }
   ],
   "source": [
    "print(\"Nombre de paires conservées \" \n",
    "f\"{linker.count_num_comparisons_from_blocking_rule(' or '.join(blocking_rules))}\")"
   ]
  },
  {
   "cell_type": "markdown",
   "id": "bf71de7d-de85-43d7-b661-c50977d66e82",
   "metadata": {},
   "source": [
    "### Règle de comparaison des champs"
   ]
  },
  {
   "cell_type": "code",
   "execution_count": 27,
   "id": "70c8fca9-de9e-45e0-80bc-a4a379796945",
   "metadata": {},
   "outputs": [],
   "source": [
    "comparisons_list = [\n",
    "        cl.jaro_winkler_at_thresholds(\"nom_etat_civil\", [0.95, 0.88], term_frequency_adjustments = True),\n",
    "        cl.jaro_winkler_at_thresholds(\"prenoms_etat_civil\", [0.95, 0.88], term_frequency_adjustments = True),\n",
    "        cl.exact_match(\"mnais_etat_civil\", term_frequency_adjustments=True),\n",
    "        cl.exact_match(\"jnais_etat_civil\", term_frequency_adjustments=True)\n",
    "    ]"
   ]
  },
  {
   "cell_type": "markdown",
   "id": "08e8164d-6539-48d0-a272-a96ef6da5d04",
   "metadata": {},
   "source": [
    "### Définition du dictionnaire des paramètres"
   ]
  },
  {
   "cell_type": "code",
   "execution_count": 29,
   "id": "210a6bcb-149e-4f9a-a05f-cc43a5aecd69",
   "metadata": {},
   "outputs": [],
   "source": [
    "linkage_settings = {\n",
    "    \"link_type\": \"link_only\",\n",
    "    \"blocking_rules_to_generate_predictions\": blocking_rules,\n",
    "    \"comparisons\": comparisons_list,\n",
    "    \"unique_id_column_name\": \"ident_deces\"\n",
    "}"
   ]
  },
  {
   "cell_type": "markdown",
   "id": "21af80fa-3abd-458b-bc0e-16548a22d34d",
   "metadata": {},
   "source": [
    "## Estimation des paramètres"
   ]
  },
  {
   "cell_type": "markdown",
   "id": "6048b4a3-16e5-4fed-8a8f-8a63778c16ca",
   "metadata": {},
   "source": [
    "Ici, cas particulier où on sait qu'à une ligne de droite correspond exactement une ligne de gauche.\n",
    "Il faud fixer la probabilité **probability_two_random_records_match** à nb_lignes^2"
   ]
  },
  {
   "cell_type": "markdown",
   "id": "cd1073f8-72d4-4649-a30c-98c15209cba4",
   "metadata": {},
   "source": [
    "Nombre de paires à utiliser pour réaliser les estimations des paramètres u et m. \n",
    "Conseil de la documentation : \"au moins 10 millions, mais 1 milliard pour les grosses tables\"."
   ]
  },
  {
   "cell_type": "markdown",
   "id": "68c0b000-3e0f-4d84-8845-11dc2a7a40a6",
   "metadata": {},
   "source": [
    "Choix des variables `nom_etat_civil` et `prenoms_etat_civil` pour s'approcher du Get Started de SPlink... L'idée serait de bloquer sur des paires de probables vrais matches pour estimer la proportion d'erreurs/imprécisions dans les données. Besoin de comprendre davantage la documentation pour faire mieux.\n",
    "\n",
    "Pour estimer le paramètre **m**, on pourrait utiliser des données labélisées. Ceci pourrait faciliter l'estimation.\n",
    "Voici la commande de la documentation `linker.estimate_m_from_label_column(\"social_security_number\")`"
   ]
  },
  {
   "cell_type": "code",
   "execution_count": 35,
   "id": "eb053c27-b448-4c42-b5a3-aae11985f6c1",
   "metadata": {},
   "outputs": [],
   "source": [
    "nb_paires_estimation = 1e7"
   ]
  },
  {
   "cell_type": "code",
   "execution_count": 36,
   "id": "66bf8688-9924-4e67-b1f7-aec81f048f2f",
   "metadata": {},
   "outputs": [
    {
     "name": "stderr",
     "output_type": "stream",
     "text": [
      "----- Estimating u probabilities using random sampling -----\n"
     ]
    },
    {
     "data": {
      "application/vnd.jupyter.widget-view+json": {
       "model_id": "46feeffe791b4b24b5e6620011b205da",
       "version_major": 2,
       "version_minor": 0
      },
      "text/plain": [
       "FloatProgress(value=0.0, layout=Layout(width='auto'), style=ProgressStyle(bar_color='black'))"
      ]
     },
     "metadata": {},
     "output_type": "display_data"
    },
    {
     "name": "stderr",
     "output_type": "stream",
     "text": [
      "\n",
      "Estimated u probabilities using random sampling\n",
      "\n",
      "Your model is not yet fully trained. Missing estimates for:\n",
      "    - nom_etat_civil (no m values are trained).\n",
      "    - prenoms_etat_civil (no m values are trained).\n",
      "    - mnais_etat_civil (no m values are trained).\n",
      "    - jnais_etat_civil (no m values are trained).\n",
      "\n",
      "----- Starting EM training session -----\n",
      "\n",
      "Estimating the m probabilities of the model by blocking on:\n",
      "l.\"nom_etat_civil\" = r.\"nom_etat_civil\"\n",
      "\n",
      "Parameter estimates will be made for the following comparison(s):\n",
      "    - prenoms_etat_civil\n",
      "    - mnais_etat_civil\n",
      "    - jnais_etat_civil\n",
      "\n",
      "Parameter estimates cannot be made for the following comparison(s) since they are used in the blocking rules: \n",
      "    - nom_etat_civil\n"
     ]
    },
    {
     "data": {
      "application/vnd.jupyter.widget-view+json": {
       "model_id": "943d481ee94549d792f82981be09f773",
       "version_major": 2,
       "version_minor": 0
      },
      "text/plain": [
       "FloatProgress(value=0.0, layout=Layout(width='auto'), style=ProgressStyle(bar_color='black'))"
      ]
     },
     "metadata": {},
     "output_type": "display_data"
    },
    {
     "name": "stderr",
     "output_type": "stream",
     "text": [
      "\n"
     ]
    },
    {
     "data": {
      "application/vnd.jupyter.widget-view+json": {
       "model_id": "1d024fa43d0848f79bac9d9abab5fbb6",
       "version_major": 2,
       "version_minor": 0
      },
      "text/plain": [
       "FloatProgress(value=0.0, layout=Layout(width='auto'), style=ProgressStyle(bar_color='black'))"
      ]
     },
     "metadata": {},
     "output_type": "display_data"
    },
    {
     "name": "stderr",
     "output_type": "stream",
     "text": [
      "Iteration 1: Largest change in params was -0.441 in probability_two_random_records_match\n"
     ]
    },
    {
     "data": {
      "application/vnd.jupyter.widget-view+json": {
       "model_id": "f83094eee53f43d6b148c944b06bfd4f",
       "version_major": 2,
       "version_minor": 0
      },
      "text/plain": [
       "FloatProgress(value=0.0, layout=Layout(width='auto'), style=ProgressStyle(bar_color='black'))"
      ]
     },
     "metadata": {},
     "output_type": "display_data"
    },
    {
     "name": "stderr",
     "output_type": "stream",
     "text": [
      "Iteration 2: Largest change in params was 0.0699 in the m_probability of prenoms_etat_civil, level `Exact match`\n"
     ]
    },
    {
     "data": {
      "application/vnd.jupyter.widget-view+json": {
       "model_id": "21d81936bdd043b78e7356381c8b13fd",
       "version_major": 2,
       "version_minor": 0
      },
      "text/plain": [
       "FloatProgress(value=0.0, layout=Layout(width='auto'), style=ProgressStyle(bar_color='black'))"
      ]
     },
     "metadata": {},
     "output_type": "display_data"
    },
    {
     "name": "stderr",
     "output_type": "stream",
     "text": [
      "Iteration 3: Largest change in params was 0.0494 in the m_probability of prenoms_etat_civil, level `Exact match`\n",
      "Iteration 4: Largest change in params was -0.0324 in the m_probability of prenoms_etat_civil, level `All other comparisons`\n",
      "Iteration 5: Largest change in params was -0.022 in the m_probability of prenoms_etat_civil, level `All other comparisons`\n",
      "Iteration 6: Largest change in params was -0.0152 in the m_probability of prenoms_etat_civil, level `All other comparisons`\n",
      "Iteration 7: Largest change in params was -0.0108 in the m_probability of prenoms_etat_civil, level `All other comparisons`\n",
      "Iteration 8: Largest change in params was -0.00793 in the m_probability of prenoms_etat_civil, level `All other comparisons`\n",
      "Iteration 9: Largest change in params was -0.00595 in the m_probability of prenoms_etat_civil, level `All other comparisons`\n",
      "Iteration 10: Largest change in params was -0.00456 in the m_probability of prenoms_etat_civil, level `All other comparisons`\n",
      "Iteration 11: Largest change in params was -0.00355 in the m_probability of prenoms_etat_civil, level `All other comparisons`\n",
      "Iteration 12: Largest change in params was -0.00281 in the m_probability of prenoms_etat_civil, level `All other comparisons`\n",
      "Iteration 13: Largest change in params was -0.00225 in the m_probability of prenoms_etat_civil, level `All other comparisons`\n",
      "Iteration 14: Largest change in params was -0.00181 in the m_probability of prenoms_etat_civil, level `All other comparisons`\n",
      "Iteration 15: Largest change in params was -0.00147 in the m_probability of prenoms_etat_civil, level `All other comparisons`\n",
      "Iteration 16: Largest change in params was -0.00121 in the m_probability of prenoms_etat_civil, level `All other comparisons`\n",
      "Iteration 17: Largest change in params was -0.000992 in the m_probability of prenoms_etat_civil, level `All other comparisons`\n",
      "Iteration 18: Largest change in params was -0.00082 in the m_probability of prenoms_etat_civil, level `All other comparisons`\n",
      "Iteration 19: Largest change in params was -0.00068 in the m_probability of prenoms_etat_civil, level `All other comparisons`\n",
      "Iteration 20: Largest change in params was -0.000565 in the m_probability of prenoms_etat_civil, level `All other comparisons`\n",
      "Iteration 21: Largest change in params was -0.000471 in the m_probability of prenoms_etat_civil, level `All other comparisons`\n",
      "Iteration 22: Largest change in params was -0.000394 in the m_probability of prenoms_etat_civil, level `All other comparisons`\n",
      "Iteration 23: Largest change in params was -0.00033 in the m_probability of prenoms_etat_civil, level `All other comparisons`\n",
      "Iteration 24: Largest change in params was -0.000276 in the m_probability of prenoms_etat_civil, level `All other comparisons`\n",
      "Iteration 25: Largest change in params was -0.000232 in the m_probability of prenoms_etat_civil, level `All other comparisons`\n",
      "\n",
      "EM converged after 25 iterations\n",
      "\n",
      "Your model is not yet fully trained. Missing estimates for:\n",
      "    - nom_etat_civil (no m values are trained).\n",
      "\n",
      "----- Starting EM training session -----\n",
      "\n",
      "Estimating the m probabilities of the model by blocking on:\n",
      "l.\"prenoms_etat_civil\" = r.\"prenoms_etat_civil\"\n",
      "\n",
      "Parameter estimates will be made for the following comparison(s):\n",
      "    - nom_etat_civil\n",
      "    - mnais_etat_civil\n",
      "    - jnais_etat_civil\n",
      "\n",
      "Parameter estimates cannot be made for the following comparison(s) since they are used in the blocking rules: \n",
      "    - prenoms_etat_civil\n"
     ]
    },
    {
     "data": {
      "application/vnd.jupyter.widget-view+json": {
       "model_id": "ec1108d371cd43459dbb8f40de7ab96d",
       "version_major": 2,
       "version_minor": 0
      },
      "text/plain": [
       "FloatProgress(value=0.0, layout=Layout(width='auto'), style=ProgressStyle(bar_color='black'))"
      ]
     },
     "metadata": {},
     "output_type": "display_data"
    },
    {
     "name": "stderr",
     "output_type": "stream",
     "text": [
      "\n"
     ]
    },
    {
     "data": {
      "application/vnd.jupyter.widget-view+json": {
       "model_id": "11ceb3c52ead49589281f7437d6bd91f",
       "version_major": 2,
       "version_minor": 0
      },
      "text/plain": [
       "FloatProgress(value=0.0, layout=Layout(width='auto'), style=ProgressStyle(bar_color='black'))"
      ]
     },
     "metadata": {},
     "output_type": "display_data"
    },
    {
     "name": "stderr",
     "output_type": "stream",
     "text": [
      "Iteration 1: Largest change in params was -0.441 in the m_probability of nom_etat_civil, level `Exact match`\n"
     ]
    },
    {
     "data": {
      "application/vnd.jupyter.widget-view+json": {
       "model_id": "743faa418ff44130948eb90ba8ab100d",
       "version_major": 2,
       "version_minor": 0
      },
      "text/plain": [
       "FloatProgress(value=0.0, layout=Layout(width='auto'), style=ProgressStyle(bar_color='black'))"
      ]
     },
     "metadata": {},
     "output_type": "display_data"
    },
    {
     "name": "stderr",
     "output_type": "stream",
     "text": [
      "Iteration 2: Largest change in params was 0.0253 in the m_probability of jnais_etat_civil, level `Exact match`\n"
     ]
    },
    {
     "data": {
      "application/vnd.jupyter.widget-view+json": {
       "model_id": "988d0342b164493aa9d687e1500881ca",
       "version_major": 2,
       "version_minor": 0
      },
      "text/plain": [
       "FloatProgress(value=0.0, layout=Layout(width='auto'), style=ProgressStyle(bar_color='black'))"
      ]
     },
     "metadata": {},
     "output_type": "display_data"
    },
    {
     "name": "stderr",
     "output_type": "stream",
     "text": [
      "Iteration 3: Largest change in params was 0.0196 in the m_probability of nom_etat_civil, level `Exact match`\n"
     ]
    },
    {
     "data": {
      "application/vnd.jupyter.widget-view+json": {
       "model_id": "0832a60a59704ed1b6ae78c8c64feee5",
       "version_major": 2,
       "version_minor": 0
      },
      "text/plain": [
       "FloatProgress(value=0.0, layout=Layout(width='auto'), style=ProgressStyle(bar_color='black'))"
      ]
     },
     "metadata": {},
     "output_type": "display_data"
    },
    {
     "name": "stderr",
     "output_type": "stream",
     "text": [
      "Iteration 4: Largest change in params was -0.0154 in the m_probability of nom_etat_civil, level `All other comparisons`\n"
     ]
    },
    {
     "data": {
      "application/vnd.jupyter.widget-view+json": {
       "model_id": "2ae9c8d87f5a47a698dab8dd4ba9017e",
       "version_major": 2,
       "version_minor": 0
      },
      "text/plain": [
       "FloatProgress(value=0.0, layout=Layout(width='auto'), style=ProgressStyle(bar_color='black'))"
      ]
     },
     "metadata": {},
     "output_type": "display_data"
    },
    {
     "name": "stderr",
     "output_type": "stream",
     "text": [
      "Iteration 5: Largest change in params was -0.0112 in the m_probability of nom_etat_civil, level `All other comparisons`\n"
     ]
    },
    {
     "data": {
      "application/vnd.jupyter.widget-view+json": {
       "model_id": "f0631f9d40494106a1634574186f7f6f",
       "version_major": 2,
       "version_minor": 0
      },
      "text/plain": [
       "FloatProgress(value=0.0, layout=Layout(width='auto'), style=ProgressStyle(bar_color='black'))"
      ]
     },
     "metadata": {},
     "output_type": "display_data"
    },
    {
     "name": "stderr",
     "output_type": "stream",
     "text": [
      "Iteration 6: Largest change in params was -0.00787 in the m_probability of nom_etat_civil, level `All other comparisons`\n"
     ]
    },
    {
     "data": {
      "application/vnd.jupyter.widget-view+json": {
       "model_id": "755df37a00d74ee7bb47cbf308a24479",
       "version_major": 2,
       "version_minor": 0
      },
      "text/plain": [
       "FloatProgress(value=0.0, layout=Layout(width='auto'), style=ProgressStyle(bar_color='black'))"
      ]
     },
     "metadata": {},
     "output_type": "display_data"
    },
    {
     "name": "stderr",
     "output_type": "stream",
     "text": [
      "Iteration 7: Largest change in params was -0.00542 in the m_probability of nom_etat_civil, level `All other comparisons`\n"
     ]
    },
    {
     "data": {
      "application/vnd.jupyter.widget-view+json": {
       "model_id": "74525455483e4df291088fb41ef46979",
       "version_major": 2,
       "version_minor": 0
      },
      "text/plain": [
       "FloatProgress(value=0.0, layout=Layout(width='auto'), style=ProgressStyle(bar_color='black'))"
      ]
     },
     "metadata": {},
     "output_type": "display_data"
    },
    {
     "name": "stderr",
     "output_type": "stream",
     "text": [
      "Iteration 8: Largest change in params was -0.0037 in the m_probability of nom_etat_civil, level `All other comparisons`\n"
     ]
    },
    {
     "data": {
      "application/vnd.jupyter.widget-view+json": {
       "model_id": "22a8068e82094f13840aa9be098199b9",
       "version_major": 2,
       "version_minor": 0
      },
      "text/plain": [
       "FloatProgress(value=0.0, layout=Layout(width='auto'), style=ProgressStyle(bar_color='black'))"
      ]
     },
     "metadata": {},
     "output_type": "display_data"
    },
    {
     "name": "stderr",
     "output_type": "stream",
     "text": [
      "Iteration 9: Largest change in params was -0.00252 in the m_probability of nom_etat_civil, level `All other comparisons`\n"
     ]
    },
    {
     "data": {
      "application/vnd.jupyter.widget-view+json": {
       "model_id": "9644661148b44a929f6b5fddf0e878c7",
       "version_major": 2,
       "version_minor": 0
      },
      "text/plain": [
       "FloatProgress(value=0.0, layout=Layout(width='auto'), style=ProgressStyle(bar_color='black'))"
      ]
     },
     "metadata": {},
     "output_type": "display_data"
    },
    {
     "name": "stderr",
     "output_type": "stream",
     "text": [
      "Iteration 10: Largest change in params was -0.00173 in the m_probability of nom_etat_civil, level `All other comparisons`\n"
     ]
    },
    {
     "data": {
      "application/vnd.jupyter.widget-view+json": {
       "model_id": "1ab33eb281e94e1cad60caba8d04f55b",
       "version_major": 2,
       "version_minor": 0
      },
      "text/plain": [
       "FloatProgress(value=0.0, layout=Layout(width='auto'), style=ProgressStyle(bar_color='black'))"
      ]
     },
     "metadata": {},
     "output_type": "display_data"
    },
    {
     "name": "stderr",
     "output_type": "stream",
     "text": [
      "Iteration 11: Largest change in params was -0.00118 in the m_probability of nom_etat_civil, level `All other comparisons`\n"
     ]
    },
    {
     "data": {
      "application/vnd.jupyter.widget-view+json": {
       "model_id": "57dc81cab0a94db2a941cfc864d30745",
       "version_major": 2,
       "version_minor": 0
      },
      "text/plain": [
       "FloatProgress(value=0.0, layout=Layout(width='auto'), style=ProgressStyle(bar_color='black'))"
      ]
     },
     "metadata": {},
     "output_type": "display_data"
    },
    {
     "name": "stderr",
     "output_type": "stream",
     "text": [
      "Iteration 12: Largest change in params was -0.000816 in the m_probability of nom_etat_civil, level `All other comparisons`\n"
     ]
    },
    {
     "data": {
      "application/vnd.jupyter.widget-view+json": {
       "model_id": "446b9b0eeef94c408aaa946f7f330de5",
       "version_major": 2,
       "version_minor": 0
      },
      "text/plain": [
       "FloatProgress(value=0.0, layout=Layout(width='auto'), style=ProgressStyle(bar_color='black'))"
      ]
     },
     "metadata": {},
     "output_type": "display_data"
    },
    {
     "name": "stderr",
     "output_type": "stream",
     "text": [
      "Iteration 13: Largest change in params was -0.000565 in the m_probability of nom_etat_civil, level `All other comparisons`\n"
     ]
    },
    {
     "data": {
      "application/vnd.jupyter.widget-view+json": {
       "model_id": "919c9bfcf9da41eb8eedfe543bf0286a",
       "version_major": 2,
       "version_minor": 0
      },
      "text/plain": [
       "FloatProgress(value=0.0, layout=Layout(width='auto'), style=ProgressStyle(bar_color='black'))"
      ]
     },
     "metadata": {},
     "output_type": "display_data"
    },
    {
     "name": "stderr",
     "output_type": "stream",
     "text": [
      "Iteration 14: Largest change in params was -0.000392 in the m_probability of nom_etat_civil, level `All other comparisons`\n"
     ]
    },
    {
     "data": {
      "application/vnd.jupyter.widget-view+json": {
       "model_id": "8a333f2a8e2b4a7c961ddbfbe283d584",
       "version_major": 2,
       "version_minor": 0
      },
      "text/plain": [
       "FloatProgress(value=0.0, layout=Layout(width='auto'), style=ProgressStyle(bar_color='black'))"
      ]
     },
     "metadata": {},
     "output_type": "display_data"
    },
    {
     "name": "stderr",
     "output_type": "stream",
     "text": [
      "Iteration 15: Largest change in params was -0.000275 in the m_probability of jnais_etat_civil, level `All other comparisons`\n"
     ]
    },
    {
     "data": {
      "application/vnd.jupyter.widget-view+json": {
       "model_id": "66bd039fcce64d6fb6119ba722546680",
       "version_major": 2,
       "version_minor": 0
      },
      "text/plain": [
       "FloatProgress(value=0.0, layout=Layout(width='auto'), style=ProgressStyle(bar_color='black'))"
      ]
     },
     "metadata": {},
     "output_type": "display_data"
    },
    {
     "name": "stderr",
     "output_type": "stream",
     "text": [
      "Iteration 16: Largest change in params was 0.000194 in the m_probability of jnais_etat_civil, level `Exact match`\n"
     ]
    },
    {
     "data": {
      "application/vnd.jupyter.widget-view+json": {
       "model_id": "88cd3ad4c60246b5b90f722ec0be5676",
       "version_major": 2,
       "version_minor": 0
      },
      "text/plain": [
       "FloatProgress(value=0.0, layout=Layout(width='auto'), style=ProgressStyle(bar_color='black'))"
      ]
     },
     "metadata": {},
     "output_type": "display_data"
    },
    {
     "name": "stderr",
     "output_type": "stream",
     "text": [
      "Iteration 17: Largest change in params was 0.000137 in the m_probability of jnais_etat_civil, level `Exact match`\n"
     ]
    },
    {
     "data": {
      "application/vnd.jupyter.widget-view+json": {
       "model_id": "434ff4ec37b94936b09855fb3f7e2812",
       "version_major": 2,
       "version_minor": 0
      },
      "text/plain": [
       "FloatProgress(value=0.0, layout=Layout(width='auto'), style=ProgressStyle(bar_color='black'))"
      ]
     },
     "metadata": {},
     "output_type": "display_data"
    },
    {
     "name": "stderr",
     "output_type": "stream",
     "text": [
      "Iteration 18: Largest change in params was -9.63e-05 in the m_probability of jnais_etat_civil, level `All other comparisons`\n",
      "\n",
      "EM converged after 18 iterations\n",
      "\n",
      "Your model is fully trained. All comparisons have at least one estimate for their m and u values\n"
     ]
    },
    {
     "name": "stdout",
     "output_type": "stream",
     "text": [
      "CPU times: user 1h 22min 3s, sys: 1min 22s, total: 1h 23min 25s\n",
      "Wall time: 3min\n"
     ]
    }
   ],
   "source": [
    "%%time\n",
    "linker = DuckDBLinker([df_gauche, df_droite], linkage_settings)\n",
    "linker.estimate_u_using_random_sampling(max_pairs = nb_paires_estimation)\n",
    "session_nom = linker.estimate_parameters_using_expectation_maximisation(block_on(\"nom_etat_civil\"))\n",
    "session_prenom = linker.estimate_parameters_using_expectation_maximisation(block_on(\"prenoms_etat_civil\"))"
   ]
  },
  {
   "cell_type": "markdown",
   "id": "bb3d1c73-3239-48e0-b2a6-45491023b72a",
   "metadata": {},
   "source": [
    "Autre stratégie (ne fonctionne pas a priori) : "
   ]
  },
  {
   "cell_type": "code",
   "execution_count": null,
   "id": "d8b40036-f961-46a0-9adb-a8cf9160e008",
   "metadata": {
    "scrolled": true
   },
   "outputs": [
    {
     "name": "stderr",
     "output_type": "stream",
     "text": [
      "----- Estimating u probabilities using random sampling -----\n"
     ]
    },
    {
     "data": {
      "application/vnd.jupyter.widget-view+json": {
       "model_id": "b0f9e4cc76ef47ebae4d5e68392fa211",
       "version_major": 2,
       "version_minor": 0
      },
      "text/plain": [
       "FloatProgress(value=0.0, layout=Layout(width='auto'), style=ProgressStyle(bar_color='black'))"
      ]
     },
     "metadata": {},
     "output_type": "display_data"
    },
    {
     "name": "stderr",
     "output_type": "stream",
     "text": [
      "\n",
      "Estimated u probabilities using random sampling\n",
      "\n",
      "Your model is not yet fully trained. Missing estimates for:\n",
      "    - nom_etat_civil (no m values are trained).\n",
      "    - prenoms_etat_civil (no m values are trained).\n",
      "    - mnais_etat_civil (no m values are trained).\n",
      "    - jnais_etat_civil (no m values are trained).\n",
      "\n",
      "----- Starting EM training session -----\n",
      "\n",
      "Estimating the m probabilities of the model by blocking on:\n",
      "(l.\"nom_etat_civil\" = r.\"nom_etat_civil\") AND (l.\"prenoms_etat_civil\" = r.\"prenoms_etat_civil\")\n",
      "\n",
      "Parameter estimates will be made for the following comparison(s):\n",
      "    - mnais_etat_civil\n",
      "    - jnais_etat_civil\n",
      "\n",
      "Parameter estimates cannot be made for the following comparison(s) since they are used in the blocking rules: \n",
      "    - nom_etat_civil\n",
      "    - prenoms_etat_civil\n",
      "\n",
      "Iteration 1: Largest change in params was 0.0914 in the m_probability of mnais_etat_civil, level `All other comparisons`\n",
      "Iteration 2: Largest change in params was -0.0357 in probability_two_random_records_match\n",
      "Iteration 3: Largest change in params was 0.0572 in the m_probability of jnais_etat_civil, level `Exact match`\n",
      "Iteration 4: Largest change in params was -0.0277 in the m_probability of jnais_etat_civil, level `All other comparisons`\n",
      "Iteration 5: Largest change in params was -0.00797 in probability_two_random_records_match\n",
      "Iteration 6: Largest change in params was -0.0031 in probability_two_random_records_match\n",
      "Iteration 7: Largest change in params was -0.00144 in probability_two_random_records_match\n",
      "Iteration 8: Largest change in params was -0.000828 in the m_probability of jnais_etat_civil, level `All other comparisons`\n",
      "Iteration 9: Largest change in params was 0.00055 in the m_probability of jnais_etat_civil, level `Exact match`\n",
      "Iteration 10: Largest change in params was 0.000389 in the m_probability of jnais_etat_civil, level `Exact match`\n",
      "Iteration 11: Largest change in params was 0.000288 in the m_probability of jnais_etat_civil, level `Exact match`\n",
      "Iteration 12: Largest change in params was 0.00022 in the m_probability of jnais_etat_civil, level `Exact match`\n",
      "Iteration 13: Largest change in params was 0.000173 in the m_probability of jnais_etat_civil, level `Exact match`\n",
      "Iteration 14: Largest change in params was -0.000139 in the m_probability of jnais_etat_civil, level `All other comparisons`\n",
      "Iteration 15: Largest change in params was 0.000113 in the m_probability of jnais_etat_civil, level `Exact match`\n",
      "Iteration 16: Largest change in params was 9.34e-05 in the m_probability of jnais_etat_civil, level `Exact match`\n",
      "\n",
      "EM converged after 16 iterations\n",
      "\n",
      "Your model is not yet fully trained. Missing estimates for:\n",
      "    - nom_etat_civil (no m values are trained).\n",
      "    - prenoms_etat_civil (no m values are trained).\n",
      "\n",
      "----- Starting EM training session -----\n",
      "\n",
      "Estimating the m probabilities of the model by blocking on:\n",
      "l.\"anais_etat_civil\" = r.\"anais_etat_civil\"\n",
      "\n",
      "Parameter estimates will be made for the following comparison(s):\n",
      "    - nom_etat_civil\n",
      "    - prenoms_etat_civil\n",
      "    - mnais_etat_civil\n",
      "    - jnais_etat_civil\n",
      "\n",
      "Parameter estimates cannot be made for the following comparison(s) since they are used in the blocking rules: \n"
     ]
    }
   ],
   "source": [
    "#%%time\n",
    "#\n",
    "#linker = DuckDBLinker([df_gauche, df_droite], linkage_settings)\n",
    "#linker.estimate_u_using_random_sampling(max_pairs = nb_paires_estimation)\n",
    "#\n",
    "#training_blocking_rule_nom_prenom = block_on([\"nom_etat_civil\", \"prenoms_etat_civil\"])\n",
    "#training_session_nom_prenom = linker.estimate_parameters_using_expectation_maximisation(training_blocking_rule_nom_prenom)\n",
    "#\n",
    "#training_blocking_rule_anais = block_on(\"anais_etat_civil\")\n",
    "#training_session_dob = linker.estimate_parameters_using_expectation_maximisation(training_blocking_rule_anais)"
   ]
  },
  {
   "cell_type": "markdown",
   "id": "b7c0c517-b8fa-4551-bde0-ac8c4d8d77e1",
   "metadata": {},
   "source": [
    "### Analyse du modèle "
   ]
  },
  {
   "cell_type": "code",
   "execution_count": null,
   "id": "4fd1ea59-0169-4ecf-8910-5cc9b6903976",
   "metadata": {},
   "outputs": [],
   "source": [
    "linker.match_weights_chart() "
   ]
  },
  {
   "cell_type": "code",
   "execution_count": null,
   "id": "9fcbaa9d-08dd-48d9-b585-23ee8a8f0d50",
   "metadata": {},
   "outputs": [],
   "source": [
    "linker.m_u_parameters_chart()"
   ]
  },
  {
   "cell_type": "code",
   "execution_count": null,
   "id": "7e97dd73-8df5-447b-b9c0-6faf4d239dfe",
   "metadata": {},
   "outputs": [],
   "source": [
    "linker.unlinkables_chart()"
   ]
  },
  {
   "cell_type": "markdown",
   "id": "7597160c-31c7-4d31-9410-1a4af2b62eba",
   "metadata": {},
   "source": [
    "### Classification des paires"
   ]
  },
  {
   "cell_type": "markdown",
   "id": "396e31c3-a7c8-46c0-953f-5a5b349a95ae",
   "metadata": {},
   "source": [
    "Attention à vérifier l'impact du seuil **0.5**"
   ]
  },
  {
   "cell_type": "code",
   "execution_count": null,
   "id": "1d482048-f06a-42a5-9ade-0d8db69d8aa5",
   "metadata": {},
   "outputs": [],
   "source": [
    "#results = linker.predict(threshold_match_probability=0.5)\n",
    "results = linker.predict()\n",
    "results_pandas = results.as_pandas_dataframe()\n",
    "results_pandas.shape\n"
   ]
  },
  {
   "cell_type": "markdown",
   "id": "d6e582ab-8458-49b1-96ce-8d388bfe4bdf",
   "metadata": {},
   "source": [
    "### Résolution des conflits"
   ]
  },
  {
   "cell_type": "code",
   "execution_count": null,
   "id": "004eccea-cdc2-4222-a366-2578525e0c1b",
   "metadata": {},
   "outputs": [],
   "source": [
    "sql = f\"\"\"\n",
    "with ranked as\n",
    "\n",
    "(\n",
    "select *,\n",
    "row_number() OVER (\n",
    "    PARTITION BY ident_deces_l order by match_weight desc\n",
    "    ) as row_number\n",
    "from {results.physical_name}\n",
    ")\n",
    "\n",
    "select *\n",
    "from ranked\n",
    "where row_number = 1\n",
    "\n",
    "\n",
    "\"\"\"\n",
    "results = linker.query_sql(sql)"
   ]
  },
  {
   "cell_type": "code",
   "execution_count": null,
   "id": "3850018b-a10d-4f1f-af81-f929ac27bcb6",
   "metadata": {},
   "outputs": [],
   "source": [
    "results"
   ]
  },
  {
   "cell_type": "markdown",
   "id": "e2167cf7-f687-4175-82d8-22914fa6ffb1",
   "metadata": {},
   "source": [
    "### Evaluation de la qualité"
   ]
  },
  {
   "cell_type": "code",
   "execution_count": null,
   "id": "2a718b45-b3e0-4797-98a6-f0c87021f41e",
   "metadata": {},
   "outputs": [],
   "source": [
    "def compute_performance_metrics_FEBRL(results, dataset_size):\n",
    "    \"\"\"\n",
    "    Compute performance metrics of a record linkage process on FEBRL synthetic data.\n",
    "    The assumption is that the size of the two datasets is the same and every record \n",
    "    from dataset A has exactly one match in dataset B.\n",
    "\n",
    "            Parameters:\n",
    "                    results (pandas DataFrame): Output from the linkage process\n",
    "                    dataset_size (int): Length of both datasets to be linked\n",
    "\n",
    "            Returns:\n",
    "                    performance_metrics (tuple): Tuple of metrics (TP, TN, FP, FN, precision, recall, F-measure)\n",
    "    \"\"\"\n",
    "    results['actual'] = (results['ident_deces_l'].str.extract(r'(Deces_2021_\\d+)') \n",
    "                                == results['ident_deces_r'].str.extract(r'(Deces_2021_\\d+)'))\n",
    "    TP = sum(results['actual'])\n",
    "    FP = sum(~results['actual'])\n",
    "    #Pairs that were removed in the indexing phase must be taken into account to compute True and False negatives\n",
    "    FN = dataset_size - TP\n",
    "    TN = dataset_size*dataset_size - TP - FN - FP\n",
    "\n",
    "    precision = TP / (TP + FP)\n",
    "    recall = TP / (TP + FN)\n",
    "    Fscore = 2 * precision * recall / (precision + recall)\n",
    "    performance_metrics = (TP, TN, FP, FN, precision, recall, Fscore)\n",
    "    return(performance_metrics)\n",
    "\n",
    "def print_performance_metrics(linkage_output, dataset_size):\n",
    "    \"\"\"\n",
    "    Prints performance metrics of a record linkage process on synthetic data.\n",
    "    The assumption is that the size of the two datasets is the same and every record \n",
    "    from dataset A has exactly one match in dataset B.\n",
    "\n",
    "            Parameters:\n",
    "                    results (pandas DataFrame): Output from the linkage process\n",
    "                    dataset_size (int): Length of both datasets to be linked\n",
    "\n",
    "            Returns:\n",
    "                    None\n",
    "    \"\"\"\n",
    "    TP, TN, FP, FN, precision, recall, Fscore = compute_performance_metrics_FEBRL(results, dataset_size)\n",
    "    print(f\"Vrais positifs : {TP:,}\".replace(',', ' '))\n",
    "    print(f\"Vrais négatifs : {TN:,}\".replace(',', ' '))\n",
    "    print(f\"Faux positifs : {FP:,}\".replace(',', ' '))\n",
    "    print(f\"Faux négatifs : {FN:,}\".replace(',', ' '))\n",
    "    print(f\"Précision : {precision:.4}\")\n",
    "    print(f\"Rappel : {recall:.4}\")\n",
    "    print(f\"F-mesure : {Fscore:.4}\")\n",
    "\n",
    "print_performance_metrics(results, nb_lignes)\n",
    "\n"
   ]
  }
 ],
 "metadata": {
  "kernelspec": {
   "display_name": "Python 3 (ipykernel)",
   "language": "python",
   "name": "python3"
  },
  "language_info": {
   "codemirror_mode": {
    "name": "ipython",
    "version": 3
   },
   "file_extension": ".py",
   "mimetype": "text/x-python",
   "name": "python",
   "nbconvert_exporter": "python",
   "pygments_lexer": "ipython3",
   "version": "3.11.4"
  }
 },
 "nbformat": 4,
 "nbformat_minor": 5
}
