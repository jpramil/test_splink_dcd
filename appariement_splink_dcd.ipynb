{
 "cells": [
  {
   "cell_type": "markdown",
   "id": "148f0d48-e309-4eea-9697-f8eb59241232",
   "metadata": {},
   "source": [
    "# Appariement SPlink sur données de décès"
   ]
  },
  {
   "cell_type": "markdown",
   "id": "e9fdc593-0560-42f5-87ae-e78ccb8a5fa8",
   "metadata": {},
   "source": [
    "## Environnement "
   ]
  },
  {
   "cell_type": "code",
   "execution_count": null,
   "id": "12dfd152-6b18-4844-a708-a5b19d886579",
   "metadata": {},
   "outputs": [],
   "source": [
    "### Installation des packages splink et recordlinkage\n",
    "!pip install splink\n",
    "!pip install recordlinkage"
   ]
  },
  {
   "cell_type": "code",
   "execution_count": null,
   "id": "ca732b19-f3a4-4058-9b6e-c6d3e234ae0d",
   "metadata": {},
   "outputs": [],
   "source": [
    "### Import des librairies nécessaires\n",
    "import pandas as pd\n",
    "from splink.duckdb.linker import DuckDBLinker\n",
    "import splink.duckdb.comparison_library as cl\n",
    "import splink.duckdb.comparison_template_library as ctl\n",
    "from splink.duckdb.blocking_rule_library import block_on\n",
    "\n",
    "# Pour S3\n",
    "import os\n",
    "import s3fs"
   ]
  },
  {
   "cell_type": "markdown",
   "id": "2f810bd5-93ce-4d11-9cf0-7fed8f54b1c3",
   "metadata": {},
   "source": [
    "## Chargement des données"
   ]
  },
  {
   "cell_type": "code",
   "execution_count": null,
   "id": "73d85bb4-de5c-496c-bee0-f5f9f62ef781",
   "metadata": {},
   "outputs": [],
   "source": [
    "\n",
    "\n",
    "# Create filesystem object\n",
    "S3_ENDPOINT_URL = \"https://\" + os.environ[\"AWS_S3_ENDPOINT\"]\n",
    "fs = s3fs.S3FileSystem(client_kwargs={'endpoint_url': S3_ENDPOINT_URL})\n",
    "#print(fs)\n",
    "fs.ls(\"projet-ssplab\")"
   ]
  },
  {
   "cell_type": "code",
   "execution_count": null,
   "id": "5ca282d7-e434-4c02-8f47-b282342a9fc7",
   "metadata": {},
   "outputs": [],
   "source": [
    "#deces = pd.read_parquet(\"s3a://projet-ssplab/appariements/deces.parquet\")\n",
    "BUCKET = \"projet-ssplab\"\n",
    "\n",
    "# Import de la table des décès\n",
    "FILE_KEY_S3 = \"appariements/deces.parquet\"\n",
    "FILE_PATH_S3 = BUCKET + \"/\" + FILE_KEY_S3\n",
    "\n",
    "with fs.open(FILE_PATH_S3, mode=\"rb\") as file_in:\n",
    "    deces = pd.read_parquet(file_in)\n",
    "\n",
    "# Import de la table des décès perturbée\n",
    "FILE_KEY_S3 = \"appariements/deces_perturb.parquet\"\n",
    "FILE_PATH_S3 = BUCKET + \"/\" + FILE_KEY_S3\n",
    "\n",
    "with fs.open(FILE_PATH_S3, mode=\"rb\") as file_in:\n",
    "    deces_perturb = pd.read_parquet(file_in)"
   ]
  },
  {
   "cell_type": "code",
   "execution_count": null,
   "id": "06ac1da0-ba94-4a42-8e50-c3b8306ee7ea",
   "metadata": {},
   "outputs": [],
   "source": [
    "len(deces) == len(deces_perturb)"
   ]
  },
  {
   "cell_type": "markdown",
   "id": "86200d39-179d-4221-ac95-ede77ea0c220",
   "metadata": {},
   "source": [
    "Besoin de passer les colonnes de noms/prénoms en minuscules dans la table de gauche."
   ]
  },
  {
   "cell_type": "code",
   "execution_count": null,
   "id": "df874084-bbf8-474e-a9b3-d4470de03151",
   "metadata": {},
   "outputs": [],
   "source": [
    "deces['nom_etat_civil'] = deces['nom_etat_civil'].str.lower()\n",
    "deces['prenoms_etat_civil'] = deces['prenoms_etat_civil'].str.lower()"
   ]
  },
  {
   "cell_type": "markdown",
   "id": "8d794d54-1ef8-4b7c-bd87-70fdabafe29d",
   "metadata": {},
   "source": [
    "## Appariement "
   ]
  },
  {
   "cell_type": "markdown",
   "id": "909919d0-472a-49b7-a9a0-d9873d058a48",
   "metadata": {},
   "source": [
    "Les individus ont les mêmes identifiants ligne à ligne (la base perturbée contient les mêmes individus, triés dans le même ordre)"
   ]
  },
  {
   "cell_type": "code",
   "execution_count": null,
   "id": "d6503fda-70be-404b-b597-e5560fe518a2",
   "metadata": {},
   "outputs": [],
   "source": [
    "nb_lignes = 10000\n",
    "df_gauche = deces.iloc[:nb_lignes]\n",
    "df_droite = deces_perturb.iloc[:nb_lignes]"
   ]
  },
  {
   "cell_type": "code",
   "execution_count": null,
   "id": "5a8b49da-237e-48c2-917f-3bd30d52b6b7",
   "metadata": {},
   "outputs": [],
   "source": [
    "df_gauche['ident_deces'].equals(df_droite['ident_deces'])"
   ]
  },
  {
   "cell_type": "markdown",
   "id": "237466f2-a463-4eb9-aa4a-2a505d97cb37",
   "metadata": {},
   "source": [
    "Part de lignes ayant subi une \"perturbation\" lors de la création de la table de gauche"
   ]
  },
  {
   "cell_type": "code",
   "execution_count": null,
   "id": "2a7536e6-a02c-4a7e-839e-f6cbd5fc79c7",
   "metadata": {},
   "outputs": [],
   "source": [
    "#df_droite = df_droite.dropna(subset=['lieunaiss'])\n",
    "df_droite.agg(part=('perturbation', 'sum')) / len(df_droite)"
   ]
  },
  {
   "cell_type": "code",
   "execution_count": null,
   "id": "1de5c7f8-3beb-4b68-a244-69a6e73bb36c",
   "metadata": {},
   "outputs": [],
   "source": [
    "df_gauche = df_gauche.drop(['datenaiss', 'datedeces', 'lieudeces', 'adeces'], axis=1)"
   ]
  },
  {
   "cell_type": "markdown",
   "id": "13deb0a5-1f6d-4dd3-888e-39e216c6aa34",
   "metadata": {},
   "source": [
    "Initialisation de l'objet Linker"
   ]
  },
  {
   "cell_type": "code",
   "execution_count": null,
   "id": "87b91177-5551-4cb1-8d0d-093c87613e2a",
   "metadata": {},
   "outputs": [],
   "source": [
    "linker = DuckDBLinker([df_gauche, df_droite], {\"link_type\": \"link_only\", \"unique_id_column_name\": \"ident_deces\"})"
   ]
  },
  {
   "cell_type": "markdown",
   "id": "01f22cbd-d085-461c-8094-4d9be9442811",
   "metadata": {},
   "source": [
    "Règle de blocage"
   ]
  },
  {
   "cell_type": "code",
   "execution_count": null,
   "id": "627f70d0-562f-48cf-8f54-b4268d47c5cb",
   "metadata": {},
   "outputs": [],
   "source": [
    "blocking_rules_lieunaissance = [\n",
    "        \"l.lieunaiss = r.lieunaiss\"\n",
    "    ]\n",
    "\n",
    "blocking_rules_postcode_and_yearofbirth = [\n",
    "        \"l.lieunaiss = r.lieunaiss and l.anais_etat_civil = r.anais_etat_civil\",\n",
    "    ]\n",
    "\n",
    "blocking_rules_postcode_or_yearofbirth = [\n",
    "        \"l.lieunaiss = r.lieunaiss or l.anais_etat_civil = r.anais_etat_civil\",\n",
    "    ]\n"
   ]
  },
  {
   "cell_type": "code",
   "execution_count": null,
   "id": "b2b33919-e3d0-44dc-a189-6e5c35a6a582",
   "metadata": {
    "scrolled": true
   },
   "outputs": [],
   "source": [
    "#linker.cumulative_num_comparisons_from_blocking_rules_chart(blocking_rules_lieunaissance)\n",
    "print(\"Nombre de paires conservées - blocage simple sur le code commune de naissance : \"\n",
    "f\"{linker.count_num_comparisons_from_blocking_rule(' or '.join(blocking_rules_postcode_and_yearofbirth))}\")"
   ]
  },
  {
   "cell_type": "code",
   "execution_count": null,
   "id": "89fca7db-2bb1-4d08-bb3c-8486b65ffee3",
   "metadata": {
    "scrolled": true
   },
   "outputs": [],
   "source": [
    "linker.cumulative_num_comparisons_from_blocking_rules_chart(blocking_rules_lieunaissance)"
   ]
  },
  {
   "cell_type": "code",
   "execution_count": null,
   "id": "e4a74098-953d-4b5c-a139-4dbebe1a9983",
   "metadata": {
    "scrolled": true
   },
   "outputs": [],
   "source": [
    "linker.cumulative_num_comparisons_from_blocking_rules_chart(blocking_rules_postcode_and_yearofbirth)"
   ]
  },
  {
   "cell_type": "code",
   "execution_count": null,
   "id": "18701086-7bb1-4d50-b94b-c56713088d21",
   "metadata": {
    "scrolled": true
   },
   "outputs": [],
   "source": [
    "linker.cumulative_num_comparisons_from_blocking_rules_chart(blocking_rules_postcode_or_yearofbirth)"
   ]
  },
  {
   "cell_type": "markdown",
   "id": "bb8892eb-8401-4dc7-9809-0eb3780ea521",
   "metadata": {},
   "source": [
    "On commence le test en bloquant sur le lieu de naissance et la date de naissance (pour limiter le nombre de paires)"
   ]
  },
  {
   "cell_type": "markdown",
   "id": "bf71de7d-de85-43d7-b661-c50977d66e82",
   "metadata": {},
   "source": [
    "### Règle de comparaison des champs"
   ]
  },
  {
   "cell_type": "code",
   "execution_count": null,
   "id": "1bcb918d-9606-4d0f-b69e-a57c0ce3788f",
   "metadata": {},
   "outputs": [],
   "source": [
    "df_gauche"
   ]
  },
  {
   "cell_type": "code",
   "execution_count": null,
   "id": "61865c74-599b-43a0-a1c6-efd9878aeba8",
   "metadata": {},
   "outputs": [],
   "source": [
    "df_droite"
   ]
  },
  {
   "cell_type": "markdown",
   "id": "52bba041-f985-4746-ba68-c8a80e068113",
   "metadata": {},
   "source": [
    "A faire : voir si le \"term_frequency_adjustment\" a un impact sur les performances !"
   ]
  },
  {
   "cell_type": "code",
   "execution_count": null,
   "id": "70c8fca9-de9e-45e0-80bc-a4a379796945",
   "metadata": {},
   "outputs": [],
   "source": [
    "\n",
    "comparisons_list = [\n",
    "        cl.jaro_winkler_at_thresholds(\"nom_etat_civil\", [0.95, 0.88], term_frequency_adjustments = True),\n",
    "        cl.jaro_winkler_at_thresholds(\"prenoms_etat_civil\", [0.95, 0.88], term_frequency_adjustments = True),\n",
    "        cl.exact_match(\"mnais_etat_civil\", term_frequency_adjustments=True),\n",
    "        cl.exact_match(\"jnais_etat_civil\", term_frequency_adjustments=True)\n",
    "    ]"
   ]
  },
  {
   "cell_type": "markdown",
   "id": "08e8164d-6539-48d0-a272-a96ef6da5d04",
   "metadata": {},
   "source": [
    "### Définition du dictionnaire des paramètres"
   ]
  },
  {
   "cell_type": "code",
   "execution_count": null,
   "id": "210a6bcb-149e-4f9a-a05f-cc43a5aecd69",
   "metadata": {},
   "outputs": [],
   "source": [
    "linkage_settings = {\n",
    "    \"link_type\": \"link_only\",\n",
    "    \"blocking_rules_to_generate_predictions\": blocking_rules_postcode_and_yearofbirth,\n",
    "    \"comparisons\": comparisons_list,\n",
    "    \"unique_id_column_name\": \"ident_deces\"\n",
    "}"
   ]
  },
  {
   "cell_type": "markdown",
   "id": "21af80fa-3abd-458b-bc0e-16548a22d34d",
   "metadata": {},
   "source": [
    "## Estimation des paramètres"
   ]
  },
  {
   "cell_type": "code",
   "execution_count": null,
   "id": "9fbaa8f4-100b-4075-9eb6-7f7f411b6b21",
   "metadata": {},
   "outputs": [],
   "source": [
    "linker = DuckDBLinker([df_gauche, df_droite], linkage_settings)"
   ]
  },
  {
   "cell_type": "code",
   "execution_count": null,
   "id": "66bf8688-9924-4e67-b1f7-aec81f048f2f",
   "metadata": {},
   "outputs": [],
   "source": [
    "linker.estimate_u_using_random_sampling(max_pairs=1e6)"
   ]
  },
  {
   "cell_type": "code",
   "execution_count": null,
   "id": "92ac9818-ee3c-4a9d-9f48-39b8d56f42c3",
   "metadata": {},
   "outputs": [],
   "source": [
    "session_nom = linker.estimate_parameters_using_expectation_maximisation(block_on(\"nom_etat_civil\"))"
   ]
  },
  {
   "cell_type": "code",
   "execution_count": null,
   "id": "8963b1f6-f9be-4f08-8337-551fab0b86e4",
   "metadata": {},
   "outputs": [],
   "source": [
    "session_prenom = linker.estimate_parameters_using_expectation_maximisation(block_on(\"prenoms_etat_civil\"))"
   ]
  },
  {
   "cell_type": "markdown",
   "id": "7597160c-31c7-4d31-9410-1a4af2b62eba",
   "metadata": {},
   "source": [
    "### Classification des paires"
   ]
  },
  {
   "cell_type": "markdown",
   "id": "396e31c3-a7c8-46c0-953f-5a5b349a95ae",
   "metadata": {},
   "source": [
    "Attention à vérifier l'inpact du seuil **0.5**"
   ]
  },
  {
   "cell_type": "code",
   "execution_count": null,
   "id": "1d482048-f06a-42a5-9ade-0d8db69d8aa5",
   "metadata": {},
   "outputs": [],
   "source": [
    "#results = linker.predict(threshold_match_probability=0.5)\n",
    "results = linker.predict()\n",
    "results_pandas = results.as_pandas_dataframe()\n",
    "results_pandas.shape\n"
   ]
  },
  {
   "cell_type": "markdown",
   "id": "d6e582ab-8458-49b1-96ce-8d388bfe4bdf",
   "metadata": {},
   "source": [
    "### Résolution des conflits"
   ]
  },
  {
   "cell_type": "code",
   "execution_count": null,
   "id": "004eccea-cdc2-4222-a366-2578525e0c1b",
   "metadata": {},
   "outputs": [],
   "source": [
    "sql = f\"\"\"\n",
    "with ranked as\n",
    "\n",
    "(\n",
    "select *,\n",
    "row_number() OVER (\n",
    "    PARTITION BY ident_deces_l order by match_weight desc\n",
    "    ) as row_number\n",
    "from {results.physical_name}\n",
    ")\n",
    "\n",
    "select *\n",
    "from ranked\n",
    "where row_number = 1\n",
    "\n",
    "\n",
    "\"\"\"\n",
    "results = linker.query_sql(sql)"
   ]
  },
  {
   "cell_type": "code",
   "execution_count": null,
   "id": "3850018b-a10d-4f1f-af81-f929ac27bcb6",
   "metadata": {},
   "outputs": [],
   "source": [
    "results"
   ]
  },
  {
   "cell_type": "markdown",
   "id": "e2167cf7-f687-4175-82d8-22914fa6ffb1",
   "metadata": {},
   "source": [
    "### Evaluation de la qualité"
   ]
  },
  {
   "cell_type": "code",
   "execution_count": null,
   "id": "2a718b45-b3e0-4797-98a6-f0c87021f41e",
   "metadata": {},
   "outputs": [],
   "source": [
    "def compute_performance_metrics_FEBRL(results, dataset_size):\n",
    "    \"\"\"\n",
    "    Compute performance metrics of a record linkage process on FEBRL synthetic data.\n",
    "    The assumption is that the size of the two datasets is the same and every record \n",
    "    from dataset A has exactly one match in dataset B.\n",
    "\n",
    "            Parameters:\n",
    "                    results (pandas DataFrame): Output from the linkage process\n",
    "                    dataset_size (int): Length of both datasets to be linked\n",
    "\n",
    "            Returns:\n",
    "                    performance_metrics (tuple): Tuple of metrics (TP, TN, FP, FN, precision, recall, F-measure)\n",
    "    \"\"\"\n",
    "    results['actual'] = (results['ident_deces_l'].str.extract(r'(Deces_2021_\\d+)') \n",
    "                                == results['ident_deces_r'].str.extract(r'(Deces_2021_\\d+)'))\n",
    "    TP = sum(results['actual'])\n",
    "    FP = sum(~results['actual'])\n",
    "    #Pairs that were removed in the indexing phase must be taken into account to compute True and False negatives\n",
    "    FN = dataset_size - TP\n",
    "    TN = dataset_size*dataset_size - TP - FN - FP\n",
    "\n",
    "    precision = TP / (TP + FP)\n",
    "    recall = TP / (TP + FN)\n",
    "    Fscore = 2 * precision * recall / (precision + recall)\n",
    "    performance_metrics = (TP, TN, FP, FN, precision, recall, Fscore)\n",
    "    return(performance_metrics)\n",
    "\n",
    "def print_performance_metrics(linkage_output, dataset_size):\n",
    "    \"\"\"\n",
    "    Prints performance metrics of a record linkage process on synthetic data.\n",
    "    The assumption is that the size of the two datasets is the same and every record \n",
    "    from dataset A has exactly one match in dataset B.\n",
    "\n",
    "            Parameters:\n",
    "                    results (pandas DataFrame): Output from the linkage process\n",
    "                    dataset_size (int): Length of both datasets to be linked\n",
    "\n",
    "            Returns:\n",
    "                    None\n",
    "    \"\"\"\n",
    "    TP, TN, FP, FN, precision, recall, Fscore = compute_performance_metrics_FEBRL(results, dataset_size)\n",
    "    print(f\"Vrais positifs : {TP:,}\".replace(',', ' '))\n",
    "    print(f\"Vrais négatifs : {TN:,}\".replace(',', ' '))\n",
    "    print(f\"Faux positifs : {FP:,}\".replace(',', ' '))\n",
    "    print(f\"Faux négatifs : {FN:,}\".replace(',', ' '))\n",
    "    print(f\"Précision : {precision:.4}\")\n",
    "    print(f\"Rappel : {recall:.4}\")\n",
    "    print(f\"F-mesure : {Fscore:.4}\")\n",
    "\n",
    "print_performance_metrics(results, n)\n",
    "\n"
   ]
  },
  {
   "cell_type": "code",
   "execution_count": null,
   "id": "7c10b0d1-f194-4f3a-bfe0-5f86a106a86d",
   "metadata": {},
   "outputs": [],
   "source": [
    "linker.missingness_chart()"
   ]
  }
 ],
 "metadata": {
  "kernelspec": {
   "display_name": "Python 3 (ipykernel)",
   "language": "python",
   "name": "python3"
  },
  "language_info": {
   "codemirror_mode": {
    "name": "ipython",
    "version": 3
   },
   "file_extension": ".py",
   "mimetype": "text/x-python",
   "name": "python",
   "nbconvert_exporter": "python",
   "pygments_lexer": "ipython3",
   "version": "3.11.4"
  }
 },
 "nbformat": 4,
 "nbformat_minor": 5
}
